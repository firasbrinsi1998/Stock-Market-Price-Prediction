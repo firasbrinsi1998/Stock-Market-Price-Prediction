{
 "cells": [
  {
   "cell_type": "code",
   "execution_count": null,
   "id": "01f6e1e4",
   "metadata": {},
   "outputs": [],
   "source": [
    "#run pip install yfinance if not installed\n",
    "\n",
    "import yfinance as yf"
   ]
  },
  {
   "cell_type": "code",
   "execution_count": null,
   "id": "4945580f",
   "metadata": {},
   "outputs": [],
   "source": [
    "sp500=yf.Ticker('^GSPC')"
   ]
  },
  {
   "cell_type": "code",
   "execution_count": null,
   "id": "44a13234",
   "metadata": {},
   "outputs": [],
   "source": [
    "#non trading days are not included in this data\n",
    "\n",
    "sp500=sp500.history(period=\"max\")\n",
    "print(sp500)"
   ]
  },
  {
   "cell_type": "code",
   "execution_count": null,
   "id": "5ae4324f",
   "metadata": {},
   "outputs": [],
   "source": [
    "#Data viz\n",
    "sp500.plot.line(y=\"Close\", use_index=True)"
   ]
  },
  {
   "cell_type": "code",
   "execution_count": null,
   "id": "bbb97ad1",
   "metadata": {},
   "outputs": [],
   "source": [
    "#Data Cleansing\n",
    "del sp500[\"Dividends\"]\n",
    "del sp500[\"Stock Splits\"]"
   ]
  },
  {
   "cell_type": "code",
   "execution_count": 18,
   "id": "e9fd1279",
   "metadata": {},
   "outputs": [
    {
     "name": "stdout",
     "output_type": "stream",
     "text": [
      "                   Open         High          Low        Close      Volume\n",
      "Date                                                                      \n",
      "1950-01-03    16.660000    16.660000    16.660000    16.660000     1260000\n",
      "1950-01-04    16.850000    16.850000    16.850000    16.850000     1890000\n",
      "1950-01-05    16.930000    16.930000    16.930000    16.930000     2550000\n",
      "1950-01-06    16.980000    16.980000    16.980000    16.980000     2010000\n",
      "1950-01-09    17.080000    17.080000    17.080000    17.080000     2520000\n",
      "...                 ...          ...          ...          ...         ...\n",
      "2022-07-11  3880.939941  3880.939941  3847.219971  3854.429932  3023830000\n",
      "2022-07-12  3851.949951  3873.409912  3802.360107  3818.800049           0\n",
      "2022-07-13  3779.669922  3829.439941  3759.070068  3801.780029  3166580000\n",
      "2022-07-14  3763.989990  3796.409912  3721.560059  3790.379883  3447500000\n",
      "2022-07-15  3818.000000  3863.620117  3817.179932  3863.159912  3537130000\n",
      "\n",
      "[18252 rows x 5 columns]\n"
     ]
    }
   ],
   "source": [
    "print(sp500)"
   ]
  },
  {
   "cell_type": "code",
   "execution_count": 19,
   "id": "12239a3e",
   "metadata": {},
   "outputs": [],
   "source": [
    "#In this project, directionality of Stock Price matters more than the exact price of the stock, we aim to predict if the price keeps on going up and if investing is worth it or not."
   ]
  },
  {
   "cell_type": "code",
   "execution_count": 22,
   "id": "fbe42054",
   "metadata": {},
   "outputs": [
    {
     "name": "stdout",
     "output_type": "stream",
     "text": [
      "                   Open         High          Low        Close      Volume  \\\n",
      "Date                                                                         \n",
      "1950-01-03    16.660000    16.660000    16.660000    16.660000     1260000   \n",
      "1950-01-04    16.850000    16.850000    16.850000    16.850000     1890000   \n",
      "1950-01-05    16.930000    16.930000    16.930000    16.930000     2550000   \n",
      "1950-01-06    16.980000    16.980000    16.980000    16.980000     2010000   \n",
      "1950-01-09    17.080000    17.080000    17.080000    17.080000     2520000   \n",
      "...                 ...          ...          ...          ...         ...   \n",
      "2022-07-11  3880.939941  3880.939941  3847.219971  3854.429932  3023830000   \n",
      "2022-07-12  3851.949951  3873.409912  3802.360107  3818.800049           0   \n",
      "2022-07-13  3779.669922  3829.439941  3759.070068  3801.780029  3166580000   \n",
      "2022-07-14  3763.989990  3796.409912  3721.560059  3790.379883  3447500000   \n",
      "2022-07-15  3818.000000  3863.620117  3817.179932  3863.159912  3537130000   \n",
      "\n",
      "               Tomorrow  \n",
      "Date                     \n",
      "1950-01-03    16.850000  \n",
      "1950-01-04    16.930000  \n",
      "1950-01-05    16.980000  \n",
      "1950-01-06    17.080000  \n",
      "1950-01-09    17.030001  \n",
      "...                 ...  \n",
      "2022-07-11  3818.800049  \n",
      "2022-07-12  3801.780029  \n",
      "2022-07-13  3790.379883  \n",
      "2022-07-14  3863.159912  \n",
      "2022-07-15          NaN  \n",
      "\n",
      "[18252 rows x 6 columns]\n"
     ]
    }
   ],
   "source": [
    "sp500[\"Tomorrow\"]=sp500[\"Close\"].shift(-1)\n",
    "print(sp500)"
   ]
  },
  {
   "cell_type": "code",
   "execution_count": null,
   "id": "958f9c2e",
   "metadata": {},
   "outputs": [],
   "source": []
  }
 ],
 "metadata": {
  "kernelspec": {
   "display_name": "Python 3 (ipykernel)",
   "language": "python",
   "name": "python3"
  },
  "language_info": {
   "codemirror_mode": {
    "name": "ipython",
    "version": 3
   },
   "file_extension": ".py",
   "mimetype": "text/x-python",
   "name": "python",
   "nbconvert_exporter": "python",
   "pygments_lexer": "ipython3",
   "version": "3.9.7"
  }
 },
 "nbformat": 4,
 "nbformat_minor": 5
}
