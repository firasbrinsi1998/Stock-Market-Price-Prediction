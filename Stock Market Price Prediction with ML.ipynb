{
 "cells": [
  {
   "cell_type": "code",
   "execution_count": 42,
   "id": "fc90f42e",
   "metadata": {},
   "outputs": [],
   "source": [
    "#run pip install yfinance if not installed\n",
    "\n",
    "import pandas as pd\n",
    "import yfinance as yf\n",
    "from sklearn.ensemble import RandomForestClassifier\n",
    "from sklearn.metrics import precision_score"
   ]
  },
  {
   "cell_type": "code",
   "execution_count": 43,
   "id": "6c8abe94",
   "metadata": {},
   "outputs": [],
   "source": [
    "sp500=yf.Ticker('^GSPC')"
   ]
  },
  {
   "cell_type": "code",
   "execution_count": 44,
   "id": "9f6d99f2",
   "metadata": {},
   "outputs": [
    {
     "name": "stdout",
     "output_type": "stream",
     "text": [
      "                   Open         High          Low        Close      Volume  \\\n",
      "Date                                                                         \n",
      "1950-01-03    16.660000    16.660000    16.660000    16.660000     1260000   \n",
      "1950-01-04    16.850000    16.850000    16.850000    16.850000     1890000   \n",
      "1950-01-05    16.930000    16.930000    16.930000    16.930000     2550000   \n",
      "1950-01-06    16.980000    16.980000    16.980000    16.980000     2010000   \n",
      "1950-01-09    17.080000    17.080000    17.080000    17.080000     2520000   \n",
      "...                 ...          ...          ...          ...         ...   \n",
      "2022-07-11  3880.939941  3880.939941  3847.219971  3854.429932  3023830000   \n",
      "2022-07-12  3851.949951  3873.409912  3802.360107  3818.800049           0   \n",
      "2022-07-13  3779.669922  3829.439941  3759.070068  3801.780029  3166580000   \n",
      "2022-07-14  3763.989990  3796.409912  3721.560059  3790.379883  3447500000   \n",
      "2022-07-15  3818.000000  3863.620117  3817.179932  3863.159912  3537130000   \n",
      "\n",
      "            Dividends  Stock Splits  \n",
      "Date                                 \n",
      "1950-01-03          0             0  \n",
      "1950-01-04          0             0  \n",
      "1950-01-05          0             0  \n",
      "1950-01-06          0             0  \n",
      "1950-01-09          0             0  \n",
      "...               ...           ...  \n",
      "2022-07-11          0             0  \n",
      "2022-07-12          0             0  \n",
      "2022-07-13          0             0  \n",
      "2022-07-14          0             0  \n",
      "2022-07-15          0             0  \n",
      "\n",
      "[18252 rows x 7 columns]\n"
     ]
    }
   ],
   "source": [
    "#non trading days are not included in this data\n",
    "\n",
    "sp500=sp500.history(period=\"max\")\n",
    "print(sp500)"
   ]
  },
  {
   "cell_type": "code",
   "execution_count": 45,
   "id": "a1cb64bf",
   "metadata": {},
   "outputs": [
    {
     "data": {
      "text/plain": [
       "<AxesSubplot:xlabel='Date'>"
      ]
     },
     "execution_count": 45,
     "metadata": {},
     "output_type": "execute_result"
    },
    {
     "data": {
      "image/png": "[encoded data removed]",
      "text/plain": [
       "<Figure size 432x288 with 1 Axes>"
      ]
     },
     "metadata": {
      "needs_background": "light"
     },
     "output_type": "display_data"
    }
   ],
   "source": [
    "#Data viz\n",
    "sp500.plot.line(y=\"Close\", use_index=True)"
   ]
  },
  {
   "cell_type": "code",
   "execution_count": 46,
   "id": "efa24547",
   "metadata": {},
   "outputs": [],
   "source": [
    "#Data Cleansing\n",
    "del sp500[\"Dividends\"]\n",
    "del sp500[\"Stock Splits\"]"
   ]
  },
  {
   "cell_type": "code",
   "execution_count": 47,
   "id": "cb96fc17",
   "metadata": {},
   "outputs": [
    {
     "name": "stdout",
     "output_type": "stream",
     "text": [
      "                   Open         High          Low        Close      Volume\n",
      "Date                                                                      \n",
      "1950-01-03    16.660000    16.660000    16.660000    16.660000     1260000\n",
      "1950-01-04    16.850000    16.850000    16.850000    16.850000     1890000\n",
      "1950-01-05    16.930000    16.930000    16.930000    16.930000     2550000\n",
      "1950-01-06    16.980000    16.980000    16.980000    16.980000     2010000\n",
      "1950-01-09    17.080000    17.080000    17.080000    17.080000     2520000\n",
      "...                 ...          ...          ...          ...         ...\n",
      "2022-07-11  3880.939941  3880.939941  3847.219971  3854.429932  3023830000\n",
      "2022-07-12  3851.949951  3873.409912  3802.360107  3818.800049           0\n",
      "2022-07-13  3779.669922  3829.439941  3759.070068  3801.780029  3166580000\n",
      "2022-07-14  3763.989990  3796.409912  3721.560059  3790.379883  3447500000\n",
      "2022-07-15  3818.000000  3863.620117  3817.179932  3863.159912  3537130000\n",
      "\n",
      "[18252 rows x 5 columns]\n"
     ]
    }
   ],
   "source": [
    "print(sp500)"
   ]
  },
  {
   "cell_type": "code",
   "execution_count": 48,
   "id": "66c0a495",
   "metadata": {},
   "outputs": [],
   "source": [
    "#In this project, directionality of Stock Price matters more than the exact price of the stock, we aim to predict if the price keeps on going up and if investing is worth it or not."
   ]
  },
  {
   "cell_type": "code",
   "execution_count": 49,
   "id": "4acb225f",
   "metadata": {},
   "outputs": [
    {
     "name": "stdout",
     "output_type": "stream",
     "text": [
      "                   Open         High          Low        Close      Volume  \\\n",
      "Date                                                                         \n",
      "1950-01-03    16.660000    16.660000    16.660000    16.660000     1260000   \n",
      "1950-01-04    16.850000    16.850000    16.850000    16.850000     1890000   \n",
      "1950-01-05    16.930000    16.930000    16.930000    16.930000     2550000   \n",
      "1950-01-06    16.980000    16.980000    16.980000    16.980000     2010000   \n",
      "1950-01-09    17.080000    17.080000    17.080000    17.080000     2520000   \n",
      "...                 ...          ...          ...          ...         ...   \n",
      "2022-07-11  3880.939941  3880.939941  3847.219971  3854.429932  3023830000   \n",
      "2022-07-12  3851.949951  3873.409912  3802.360107  3818.800049           0   \n",
      "2022-07-13  3779.669922  3829.439941  3759.070068  3801.780029  3166580000   \n",
      "2022-07-14  3763.989990  3796.409912  3721.560059  3790.379883  3447500000   \n",
      "2022-07-15  3818.000000  3863.620117  3817.179932  3863.159912  3537130000   \n",
      "\n",
      "               Tomorrow  \n",
      "Date                     \n",
      "1950-01-03    16.850000  \n",
      "1950-01-04    16.930000  \n",
      "1950-01-05    16.980000  \n",
      "1950-01-06    17.080000  \n",
      "1950-01-09    17.030001  \n",
      "...                 ...  \n",
      "2022-07-11  3818.800049  \n",
      "2022-07-12  3801.780029  \n",
      "2022-07-13  3790.379883  \n",
      "2022-07-14  3863.159912  \n",
      "2022-07-15          NaN  \n",
      "\n",
      "[18252 rows x 6 columns]\n"
     ]
    }
   ],
   "source": [
    "sp500[\"Tomorrow\"]=sp500[\"Close\"].shift(-1)\n",
    "print(sp500)"
   ]
  },
  {
   "cell_type": "code",
   "execution_count": 50,
   "id": "bee4aba7",
   "metadata": {},
   "outputs": [
    {
     "name": "stdout",
     "output_type": "stream",
     "text": [
      "                   Open         High          Low        Close      Volume  \\\n",
      "Date                                                                         \n",
      "1950-01-03    16.660000    16.660000    16.660000    16.660000     1260000   \n",
      "1950-01-04    16.850000    16.850000    16.850000    16.850000     1890000   \n",
      "1950-01-05    16.930000    16.930000    16.930000    16.930000     2550000   \n",
      "1950-01-06    16.980000    16.980000    16.980000    16.980000     2010000   \n",
      "1950-01-09    17.080000    17.080000    17.080000    17.080000     2520000   \n",
      "...                 ...          ...          ...          ...         ...   \n",
      "2022-07-11  3880.939941  3880.939941  3847.219971  3854.429932  3023830000   \n",
      "2022-07-12  3851.949951  3873.409912  3802.360107  3818.800049           0   \n",
      "2022-07-13  3779.669922  3829.439941  3759.070068  3801.780029  3166580000   \n",
      "2022-07-14  3763.989990  3796.409912  3721.560059  3790.379883  3447500000   \n",
      "2022-07-15  3818.000000  3863.620117  3817.179932  3863.159912  3537130000   \n",
      "\n",
      "               Tomorrow  Target  \n",
      "Date                             \n",
      "1950-01-03    16.850000       1  \n",
      "1950-01-04    16.930000       1  \n",
      "1950-01-05    16.980000       1  \n",
      "1950-01-06    17.080000       1  \n",
      "1950-01-09    17.030001       0  \n",
      "...                 ...     ...  \n",
      "2022-07-11  3818.800049       0  \n",
      "2022-07-12  3801.780029       0  \n",
      "2022-07-13  3790.379883       0  \n",
      "2022-07-14  3863.159912       1  \n",
      "2022-07-15          NaN       0  \n",
      "\n",
      "[18252 rows x 7 columns]\n"
     ]
    }
   ],
   "source": [
    "sp500[\"Target\"]=(sp500[\"Tomorrow\"]>sp500[\"Close\"]).astype(int)\n",
    "print(sp500)"
   ]
  },
  {
   "cell_type": "code",
   "execution_count": 51,
   "id": "ee57cbd0",
   "metadata": {},
   "outputs": [],
   "source": [
    "sp500=sp500.loc[\"2000-01-01\":].copy()"
   ]
  },
  {
   "cell_type": "code",
   "execution_count": 52,
   "id": "681a302c",
   "metadata": {},
   "outputs": [
    {
     "name": "stdout",
     "output_type": "stream",
     "text": [
      "                   Open         High          Low        Close      Volume  \\\n",
      "Date                                                                         \n",
      "2000-01-03  1469.250000  1478.000000  1438.359985  1455.219971   931800000   \n",
      "2000-01-04  1455.219971  1455.219971  1397.430054  1399.420044  1009000000   \n",
      "2000-01-05  1399.420044  1413.270020  1377.680054  1402.109985  1085500000   \n",
      "2000-01-06  1402.109985  1411.900024  1392.099976  1403.449951  1092300000   \n",
      "2000-01-07  1403.449951  1441.469971  1400.729980  1441.469971  1225200000   \n",
      "...                 ...          ...          ...          ...         ...   \n",
      "2022-07-11  3880.939941  3880.939941  3847.219971  3854.429932  3023830000   \n",
      "2022-07-12  3851.949951  3873.409912  3802.360107  3818.800049           0   \n",
      "2022-07-13  3779.669922  3829.439941  3759.070068  3801.780029  3166580000   \n",
      "2022-07-14  3763.989990  3796.409912  3721.560059  3790.379883  3447500000   \n",
      "2022-07-15  3818.000000  3863.620117  3817.179932  3863.159912  3537130000   \n",
      "\n",
      "               Tomorrow  Target  \n",
      "Date                             \n",
      "2000-01-03  1399.420044       0  \n",
      "2000-01-04  1402.109985       1  \n",
      "2000-01-05  1403.449951       1  \n",
      "2000-01-06  1441.469971       1  \n",
      "2000-01-07  1457.599976       1  \n",
      "...                 ...     ...  \n",
      "2022-07-11  3818.800049       0  \n",
      "2022-07-12  3801.780029       0  \n",
      "2022-07-13  3790.379883       0  \n",
      "2022-07-14  3863.159912       1  \n",
      "2022-07-15          NaN       0  \n",
      "\n",
      "[5670 rows x 7 columns]\n"
     ]
    }
   ],
   "source": [
    "print(sp500)"
   ]
  },
  {
   "cell_type": "code",
   "execution_count": 53,
   "id": "6884a104",
   "metadata": {},
   "outputs": [],
   "source": [
    "model=RandomForestClassifier(n_estimators=1000, min_samples_split=100, random_state=1)"
   ]
  },
  {
   "cell_type": "code",
   "execution_count": 58,
   "id": "08108321",
   "metadata": {},
   "outputs": [
    {
     "data": {
      "text/plain": [
       "RandomForestClassifier(min_samples_split=100, n_estimators=1000, random_state=1)"
      ]
     },
     "execution_count": 58,
     "metadata": {},
     "output_type": "execute_result"
    }
   ],
   "source": [
    "train=sp500.iloc[:-2000]\n",
    "test=sp500.iloc[-2000:]\n",
    "predictor_columns=[\"Close\", \"Volume\", \"Open\", \"High\", \"Low\"]\n",
    "model.fit(train[predictor_columns], train[\"Target\"])"
   ]
  },
  {
   "cell_type": "code",
   "execution_count": 59,
   "id": "f56f54a8",
   "metadata": {},
   "outputs": [],
   "source": [
    "preds=model.predict(test[predictor_columns])"
   ]
  },
  {
   "cell_type": "code",
   "execution_count": 60,
   "id": "8804c130",
   "metadata": {},
   "outputs": [],
   "source": [
    "preds=pd.Series(preds, index=test.index)"
   ]
  },
  {
   "cell_type": "code",
   "execution_count": 61,
   "id": "ae1cdf11",
   "metadata": {},
   "outputs": [
    {
     "data": {
      "text/plain": [
       "0.521505376344086"
      ]
     },
     "execution_count": 61,
     "metadata": {},
     "output_type": "execute_result"
    }
   ],
   "source": [
    "precision_score(test[\"Target\"], preds)"
   ]
  },
  {
   "cell_type": "code",
   "execution_count": null,
   "id": "1af86956",
   "metadata": {},
   "outputs": [],
   "source": []
  }
 ],
 "metadata": {
  "kernelspec": {
   "display_name": "Python 3 (ipykernel)",
   "language": "python",
   "name": "python3"
  },
  "language_info": {
   "codemirror_mode": {
    "name": "ipython",
    "version": 3
   },
   "file_extension": ".py",
   "mimetype": "text/x-python",
   "name": "python",
   "nbconvert_exporter": "python",
   "pygments_lexer": "ipython3",
   "version": "3.9.7"
  }
 },
 "nbformat": 4,
 "nbformat_minor": 5
}
